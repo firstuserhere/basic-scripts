{
  "nbformat": 4,
  "nbformat_minor": 0,
  "metadata": {
    "colab": {
      "provenance": [],
      "authorship_tag": "ABX9TyOCkyQq3jRq2JNE5t0zmfvD",
      "include_colab_link": true
    },
    "kernelspec": {
      "name": "python3",
      "display_name": "Python 3"
    },
    "language_info": {
      "name": "python"
    }
  },
  "cells": [
    {
      "cell_type": "markdown",
      "metadata": {
        "id": "view-in-github",
        "colab_type": "text"
      },
      "source": [
        "<a href=\"https://colab.research.google.com/github/firstuserhere/basic-scripts/blob/main/download_free_audiobooks.ipynb\" target=\"_parent\"><img src=\"https://colab.research.google.com/assets/colab-badge.svg\" alt=\"Open In Colab\"/></a>"
      ]
    },
    {
      "cell_type": "markdown",
      "source": [
        "# Setup"
      ],
      "metadata": {
        "id": "bgKjt5MdMDv2"
      }
    },
    {
      "cell_type": "code",
      "execution_count": 5,
      "metadata": {
        "id": "ZaifnLxJJ7PI"
      },
      "outputs": [],
      "source": [
        "import requests\n",
        "from bs4 import BeautifulSoup\n",
        "import requests"
      ]
    },
    {
      "cell_type": "code",
      "source": [
        "!pip install beautifulsoup4 requests"
      ],
      "metadata": {
        "colab": {
          "base_uri": "https://localhost:8080/"
        },
        "id": "ayMOyFkvKrzv",
        "outputId": "39449f88-8fa7-4a20-fbf5-da7817494c86"
      },
      "execution_count": 6,
      "outputs": [
        {
          "output_type": "stream",
          "name": "stdout",
          "text": [
            "Requirement already satisfied: beautifulsoup4 in /usr/local/lib/python3.10/dist-packages (4.11.2)\n",
            "Requirement already satisfied: requests in /usr/local/lib/python3.10/dist-packages (2.31.0)\n",
            "Requirement already satisfied: soupsieve>1.2 in /usr/local/lib/python3.10/dist-packages (from beautifulsoup4) (2.5)\n",
            "Requirement already satisfied: charset-normalizer<4,>=2 in /usr/local/lib/python3.10/dist-packages (from requests) (3.3.2)\n",
            "Requirement already satisfied: idna<4,>=2.5 in /usr/local/lib/python3.10/dist-packages (from requests) (3.6)\n",
            "Requirement already satisfied: urllib3<3,>=1.21.1 in /usr/local/lib/python3.10/dist-packages (from requests) (2.0.7)\n",
            "Requirement already satisfied: certifi>=2017.4.17 in /usr/local/lib/python3.10/dist-packages (from requests) (2023.11.17)\n"
          ]
        }
      ]
    },
    {
      "cell_type": "code",
      "source": [
        "!pip install pydub"
      ],
      "metadata": {
        "colab": {
          "base_uri": "https://localhost:8080/"
        },
        "id": "mShVx_UyNi5O",
        "outputId": "f365720d-8d0a-4f50-8d04-58ec154e50f8"
      },
      "execution_count": 15,
      "outputs": [
        {
          "output_type": "stream",
          "name": "stdout",
          "text": [
            "Collecting pydub\n",
            "  Downloading pydub-0.25.1-py2.py3-none-any.whl (32 kB)\n",
            "Installing collected packages: pydub\n",
            "Successfully installed pydub-0.25.1\n"
          ]
        }
      ]
    },
    {
      "cell_type": "code",
      "source": [
        "!apt install ffmpeg"
      ],
      "metadata": {
        "colab": {
          "base_uri": "https://localhost:8080/"
        },
        "id": "ORB_apMLNkx7",
        "outputId": "265dec88-b7f8-499a-ca89-e82fe49a392e"
      },
      "execution_count": 16,
      "outputs": [
        {
          "output_type": "stream",
          "name": "stdout",
          "text": [
            "Reading package lists... Done\n",
            "Building dependency tree... Done\n",
            "Reading state information... Done\n",
            "ffmpeg is already the newest version (7:4.4.2-0ubuntu0.22.04.1).\n",
            "0 upgraded, 0 newly installed, 0 to remove and 24 not upgraded.\n"
          ]
        }
      ]
    },
    {
      "cell_type": "code",
      "source": [
        "from pydub import AudioSegment\n",
        "import os"
      ],
      "metadata": {
        "id": "fxG2Dhp-OMUv"
      },
      "execution_count": 18,
      "outputs": []
    },
    {
      "cell_type": "markdown",
      "source": [
        "#Download the book"
      ],
      "metadata": {
        "id": "vTsdxZJLMGiN"
      }
    },
    {
      "cell_type": "markdown",
      "source": [
        "## Which book to download?"
      ],
      "metadata": {
        "id": "xebqjHv9MhJ4"
      }
    },
    {
      "cell_type": "code",
      "source": [
        "page_url = 'https://anyaudiobook.com/haruki-murakami-kafka-on-the-shore-audiobook/'"
      ],
      "metadata": {
        "id": "Ofxi-_9LLJ_x"
      },
      "execution_count": 9,
      "outputs": []
    },
    {
      "cell_type": "code",
      "source": [
        "book_name = \"Kafka on the shore\""
      ],
      "metadata": {
        "id": "0pYf_9WCOpG2"
      },
      "execution_count": 21,
      "outputs": []
    },
    {
      "cell_type": "markdown",
      "source": [
        "## Extract the URLs where parts of the book are hosted"
      ],
      "metadata": {
        "id": "ylJFYcLtMIzE"
      }
    },
    {
      "cell_type": "code",
      "source": [
        "response = requests.get(page_url)\n",
        "html_content = response.text"
      ],
      "metadata": {
        "id": "ZovXprj5LNIP"
      },
      "execution_count": 10,
      "outputs": []
    },
    {
      "cell_type": "code",
      "source": [
        "#Parse the HTML\n",
        "soup = BeautifulSoup(html_content, 'html.parser')"
      ],
      "metadata": {
        "id": "eRU34DezLYc2"
      },
      "execution_count": 11,
      "outputs": []
    },
    {
      "cell_type": "code",
      "source": [
        "# Find all <audio> tags and then extract the URL from the <source> tag within it\n",
        "#Initialize an empty dict first\n",
        "audio_urls = []\n",
        "\n",
        "#Fill the dict\n",
        "for audio in soup.find_all('audio'):\n",
        "    source = audio.find('source')\n",
        "    if source and source.get('src'):\n",
        "        audio_urls.append(source['src'])\n",
        "\n",
        "# Print the extracted URLs\n",
        "for url in audio_urls:\n",
        "    print(url)"
      ],
      "metadata": {
        "colab": {
          "base_uri": "https://localhost:8080/"
        },
        "id": "2SExedIMLdeG",
        "outputId": "ed036d18-d8c8-4557-c168-5d305f3c039d"
      },
      "execution_count": 12,
      "outputs": [
        {
          "output_type": "stream",
          "name": "stdout",
          "text": [
            "https://ipaudio.club/wp-content/uploads/ANY/TRECIA/Kafka%20on%20the%20Shore/01.mp3?_=1\n",
            "https://ipaudio.club/wp-content/uploads/ANY/TRECIA/Kafka%20on%20the%20Shore/02.mp3?_=2\n",
            "https://ipaudio.club/wp-content/uploads/ANY/TRECIA/Kafka%20on%20the%20Shore/03.mp3?_=3\n",
            "https://ipaudio.club/wp-content/uploads/ANY/TRECIA/Kafka%20on%20the%20Shore/04.mp3?_=4\n",
            "https://ipaudio.club/wp-content/uploads/ANY/TRECIA/Kafka%20on%20the%20Shore/05.mp3?_=5\n",
            "https://ipaudio.club/wp-content/uploads/ANY/TRECIA/Kafka%20on%20the%20Shore/06.mp3?_=6\n",
            "https://ipaudio.club/wp-content/uploads/ANY/TRECIA/Kafka%20on%20the%20Shore/07.mp3?_=7\n",
            "https://ipaudio.club/wp-content/uploads/ANY/TRECIA/Kafka%20on%20the%20Shore/08.mp3?_=8\n",
            "https://ipaudio.club/wp-content/uploads/ANY/TRECIA/Kafka%20on%20the%20Shore/09.mp3?_=9\n",
            "https://ipaudio.club/wp-content/uploads/ANY/TRECIA/Kafka%20on%20the%20Shore/10.mp3?_=10\n",
            "https://ipaudio.club/wp-content/uploads/ANY/TRECIA/Kafka%20on%20the%20Shore/11.mp3?_=11\n",
            "https://ipaudio.club/wp-content/uploads/ANY/TRECIA/Kafka%20on%20the%20Shore/12.mp3?_=12\n",
            "https://ipaudio.club/wp-content/uploads/ANY/TRECIA/Kafka%20on%20the%20Shore/13.mp3?_=13\n",
            "https://ipaudio.club/wp-content/uploads/ANY/TRECIA/Kafka%20on%20the%20Shore/14.mp3?_=14\n",
            "https://ipaudio.club/wp-content/uploads/ANY/TRECIA/Kafka%20on%20the%20Shore/15.mp3?_=15\n",
            "https://ipaudio.club/wp-content/uploads/ANY/TRECIA/Kafka%20on%20the%20Shore/16.mp3?_=16\n",
            "https://ipaudio.club/wp-content/uploads/ANY/TRECIA/Kafka%20on%20the%20Shore/17.mp3?_=17\n",
            "https://ipaudio.club/wp-content/uploads/ANY/TRECIA/Kafka%20on%20the%20Shore/18.mp3?_=18\n",
            "https://ipaudio.club/wp-content/uploads/ANY/TRECIA/Kafka%20on%20the%20Shore/19.mp3?_=19\n",
            "https://ipaudio.club/wp-content/uploads/ANY/TRECIA/Kafka%20on%20the%20Shore/20.mp3?_=20\n"
          ]
        }
      ]
    },
    {
      "cell_type": "markdown",
      "source": [
        "## Download the book's audio files"
      ],
      "metadata": {
        "id": "950YYumXMVXw"
      }
    },
    {
      "cell_type": "code",
      "source": [
        "for url in audio_urls:\n",
        "    try:\n",
        "        response = requests.get(url)\n",
        "        # Extract filename and modify it\n",
        "        filename = url.split('/')[-1]\n",
        "        # Remove query parameters after '?'\n",
        "        filename = filename.split('?')[0]\n",
        "\n",
        "        # Save the file\n",
        "        path = f'/content/{filename}'  # Adjust the path as needed\n",
        "        with open(path, 'wb') as file:\n",
        "            file.write(response.content)\n",
        "\n",
        "        print(f'Downloaded: {filename}')\n",
        "    except Exception as e:\n",
        "        print(f'Error downloading {url}: {str(e)}')"
      ],
      "metadata": {
        "colab": {
          "base_uri": "https://localhost:8080/"
        },
        "id": "K_qd_6PGL45z",
        "outputId": "78df4d4a-ac1a-4eb8-eff4-d9192d0cac22"
      },
      "execution_count": 14,
      "outputs": [
        {
          "output_type": "stream",
          "name": "stdout",
          "text": [
            "Downloaded: 01.mp3\n",
            "Downloaded: 02.mp3\n",
            "Downloaded: 03.mp3\n",
            "Downloaded: 04.mp3\n",
            "Downloaded: 05.mp3\n",
            "Downloaded: 06.mp3\n",
            "Downloaded: 07.mp3\n",
            "Downloaded: 08.mp3\n",
            "Downloaded: 09.mp3\n",
            "Downloaded: 10.mp3\n",
            "Downloaded: 11.mp3\n",
            "Downloaded: 12.mp3\n",
            "Downloaded: 13.mp3\n",
            "Downloaded: 14.mp3\n",
            "Downloaded: 15.mp3\n",
            "Downloaded: 16.mp3\n",
            "Downloaded: 17.mp3\n",
            "Downloaded: 18.mp3\n",
            "Downloaded: 19.mp3\n",
            "Downloaded: 20.mp3\n"
          ]
        }
      ]
    },
    {
      "cell_type": "markdown",
      "source": [
        "## Combine all audio files into an audiobook"
      ],
      "metadata": {
        "id": "FEVYMzKDNs7N"
      }
    },
    {
      "cell_type": "code",
      "source": [
        "# Directory where the files are stored\n",
        "directory = '/content/'\n",
        "\n",
        "# Number of files to concatenate\n",
        "num_files = 20  # Update this with the number of files"
      ],
      "metadata": {
        "id": "kD_IRqB0Nxg-"
      },
      "execution_count": 19,
      "outputs": []
    },
    {
      "cell_type": "code",
      "source": [
        "# Initialize an empty AudioSegment\n",
        "combined = AudioSegment.empty()\n",
        "\n",
        "# Generate file paths and concatenate\n",
        "for i in range(1, num_files + 1):\n",
        "    file_name = f\"{i:02}.mp3\"  # Generates '01.mp3', '02.mp3', ..., '20.mp3'\n",
        "    print(file_name)\n",
        "    file_path = os.path.join(directory, file_name)\n",
        "\n",
        "    # Check if the file exists\n",
        "    if os.path.exists(file_path):\n",
        "        audio = AudioSegment.from_file(file_path)\n",
        "        combined += audio\n",
        "    else:\n",
        "        print(f\"File not found: {file_path}\")\n",
        "\n",
        "# Export the combined audio to a new file\n",
        "output_file = os.path.join(directory, \"combined_file.mp3\")\n",
        "combined.export(output_file, format=\"mp3\")\n",
        "\n",
        "print(f\"Concatenation complete! Combined file saved as {output_file}\")"
      ],
      "metadata": {
        "colab": {
          "base_uri": "https://localhost:8080/"
        },
        "id": "vR7Q-r7AOUa_",
        "outputId": "d0f13e27-17ae-46d3-cb2d-207ea233eb05"
      },
      "execution_count": 23,
      "outputs": [
        {
          "output_type": "stream",
          "name": "stdout",
          "text": [
            "01.mp3\n",
            "02.mp3\n",
            "03.mp3\n",
            "04.mp3\n",
            "05.mp3\n",
            "06.mp3\n",
            "07.mp3\n",
            "08.mp3\n",
            "09.mp3\n",
            "10.mp3\n",
            "11.mp3\n",
            "12.mp3\n",
            "13.mp3\n",
            "14.mp3\n",
            "15.mp3\n",
            "16.mp3\n",
            "17.mp3\n",
            "18.mp3\n",
            "19.mp3\n",
            "20.mp3\n",
            "Concatenation complete! Combined file saved as /content/combined_file.mp3\n"
          ]
        }
      ]
    },
    {
      "cell_type": "markdown",
      "source": [
        "## Delete all the individual files"
      ],
      "metadata": {
        "id": "XKzIme8bSyTA"
      }
    },
    {
      "cell_type": "code",
      "source": [
        "# Directory where the files are stored\n",
        "directory = '/content/'\n",
        "\n",
        "# Number of files that were concatenated\n",
        "num_files = 20  # Update this with the number of files\n",
        "\n",
        "# Loop through and delete each file\n",
        "for i in range(1, num_files + 1):\n",
        "    file_name = f\"{i:02}.mp3\"  # Adjust the format if different\n",
        "    file_path = os.path.join(directory, file_name)\n",
        "\n",
        "    # Check if the file exists and then delete\n",
        "    if os.path.exists(file_path):\n",
        "        os.remove(file_path)\n",
        "        print(f\"Deleted: {file_path}\")\n",
        "    else:\n",
        "        print(f\"File not found, skipped: {file_path}\")\n",
        "\n",
        "print(\"All individual files deleted.\")\n"
      ],
      "metadata": {
        "colab": {
          "base_uri": "https://localhost:8080/"
        },
        "id": "KvS5P4bsSx5W",
        "outputId": "84cbdad0-0be4-4c1a-fa1b-ea7782fc4e0a"
      },
      "execution_count": 24,
      "outputs": [
        {
          "output_type": "stream",
          "name": "stdout",
          "text": [
            "Deleted: /content/01.mp3\n",
            "Deleted: /content/02.mp3\n",
            "Deleted: /content/03.mp3\n",
            "Deleted: /content/04.mp3\n",
            "Deleted: /content/05.mp3\n",
            "Deleted: /content/06.mp3\n",
            "Deleted: /content/07.mp3\n",
            "Deleted: /content/08.mp3\n",
            "Deleted: /content/09.mp3\n",
            "Deleted: /content/10.mp3\n",
            "Deleted: /content/11.mp3\n",
            "Deleted: /content/12.mp3\n",
            "Deleted: /content/13.mp3\n",
            "Deleted: /content/14.mp3\n",
            "Deleted: /content/15.mp3\n",
            "Deleted: /content/16.mp3\n",
            "Deleted: /content/17.mp3\n",
            "Deleted: /content/18.mp3\n",
            "Deleted: /content/19.mp3\n",
            "Deleted: /content/20.mp3\n",
            "All individual files deleted.\n"
          ]
        }
      ]
    }
  ]
}